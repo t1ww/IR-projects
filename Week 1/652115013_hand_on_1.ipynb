{
 "cells": [
  {
   "cell_type": "markdown",
   "metadata": {},
   "source": [
    "- Pages 15-23 : How many positions required MySql and Python\n",
    "---"
   ]
  },
  {
   "cell_type": "code",
   "execution_count": 2,
   "metadata": {},
   "outputs": [],
   "source": [
    "import pandas as pd\n",
    "import string\n",
    "import requests\n",
    "from bs4 import BeautifulSoup\n",
    "import numpy as np"
   ]
  },
  {
   "cell_type": "code",
   "execution_count": 2,
   "metadata": {},
   "outputs": [],
   "source": [
    "def get_and_clean_data():\n",
    "    data = pd.read_csv('resource/software_developer_united_states_1971_20191023_1.csv')\n",
    "    description = data['job_description']\n",
    "    cleaned_description = description.apply(lambda s: s.translate(str.maketrans('', '', string.punctuation + u'\\xa0')))\n",
    "    cleaned_description = cleaned_description.apply(lambda s: s.lower())\n",
    "    cleaned_description = cleaned_description.apply(lambda s: s.translate(str.maketrans(string.whitespace, ' '*len(string.whitespace), '')))\n",
    "    cleaned_description = cleaned_description.drop_duplicates()\n",
    "    return cleaned_description\n",
    "\n",
    "def simple_tokenize(data):\n",
    "    cleaned_description = data.apply(lambda s: [x.strip() for x in s.split()])\n",
    "    return cleaned_description\n",
    "\n",
    "def parse_job_description():\n",
    "    cleaned_description = get_and_clean_data()\n",
    "    cleaned_description = simple_tokenize(cleaned_description)\n",
    "    return cleaned_description"
   ]
  },
  {
   "cell_type": "code",
   "execution_count": 3,
   "metadata": {},
   "outputs": [],
   "source": [
    "def count_python_mysql():\n",
    "    parsed_description = parse_job_description()\n",
    "    count_python = parsed_description.apply(lambda s: 'python' in s).sum()\n",
    "    count_mysql = parsed_description.apply(lambda s: 'mysql' in s).sum()\n",
    "    print('python: ' + str(count_python) + ' of ' + str(parsed_description.shape[0]))\n",
    "    print('mysql: ' + str(count_mysql) + ' of ' + str(parsed_description.shape[0]))"
   ]
  },
  {
   "cell_type": "code",
   "execution_count": 4,
   "metadata": {},
   "outputs": [],
   "source": [
    "def parse_db():\n",
    "    html_doc = requests.get(\"https://db-engines.com/en/ranking\").content\n",
    "    soup = BeautifulSoup(html_doc, 'html.parser')\n",
    "    db_table = soup.find(\"table\", {\"class\": \"dbi\"})\n",
    "    all_db = [''.join(s.find('a').findAll(text=True,recursive=False)).strip() for s in db_table.findAll(\"th\", {\"class\": \"pad-l\"})]\n",
    "    all_db = list(dict.fromkeys(all_db))\n",
    "    db_list = all_db[:10]\n",
    "    db_list = [s.lower() for s in db_list]\n",
    "    db_list = [[x.strip() for x in s.split()] for s in db_list]\n",
    "    return db_list"
   ]
  },
  {
   "cell_type": "code",
   "execution_count": 5,
   "metadata": {},
   "outputs": [
    {
     "name": "stdout",
     "output_type": "stream",
     "text": [
      "python: 1379 of 7583\n",
      "mysql: 667 of 7583\n"
     ]
    }
   ],
   "source": [
    "# How many positions required MySql and Python (p. 18)\n",
    "count_python_mysql()"
   ]
  },
  {
   "cell_type": "code",
   "execution_count": 6,
   "metadata": {},
   "outputs": [
    {
     "name": "stderr",
     "output_type": "stream",
     "text": [
      "C:\\Users\\Admin\\AppData\\Local\\Temp\\ipykernel_7848\\994790654.py:5: DeprecationWarning: The 'text' argument to find()-type methods is deprecated. Use 'string' instead.\n",
      "  all_db = [''.join(s.find('a').findAll(text=True,recursive=False)).strip() for s in db_table.findAll(\"th\", {\"class\": \"pad-l\"})]\n"
     ]
    },
    {
     "name": "stdout",
     "output_type": "stream",
     "text": [
      "oracle: 1392 of 7583\n",
      "mysql: 667 of 7583\n",
      "microsoft sql server: 868 of 7583\n",
      "postgresql: 261 of 7583\n",
      "mongodb: 296 of 7583\n",
      "redis: 106 of 7583\n",
      "snowflake: 15 of 7583\n",
      "elasticsearch: 161 of 7583\n",
      "ibm db2: 48 of 7583\n",
      "sqlite: 28 of 7583\n"
     ]
    }
   ],
   "source": [
    "# Count of occurrences (p. 20)\n",
    "cleaned_db = parse_db() \n",
    "parsed_description = parse_job_description()\n",
    "raw = [None] * len(cleaned_db)\n",
    "for i,db in enumerate(cleaned_db):\n",
    "    raw[i] = parsed_description.apply(lambda s: np.all([x in s for x in db])).sum()\n",
    "    print(' '.join(db) + ': ' + str(raw[i]) + ' of ' + str(parsed_description .shape[0]))"
   ]
  },
  {
   "cell_type": "code",
   "execution_count": 7,
   "metadata": {},
   "outputs": [
    {
     "name": "stdout",
     "output_type": "stream",
     "text": [
      "oracle + python: 243 of 7583\n",
      "mysql + python: 207 of 7583\n",
      "microsoft sql server + python: 51 of 7583\n",
      "postgresql + python: 90 of 7583\n",
      "mongodb + python: 111 of 7583\n",
      "redis + python: 38 of 7583\n",
      "snowflake + python: 10 of 7583\n",
      "elasticsearch + python: 73 of 7583\n",
      "ibm db2 + python: 12 of 7583\n",
      "sqlite + python: 7 of 7583\n"
     ]
    }
   ],
   "source": [
    "# Count of co-occurrences\n",
    "with_python = [None] * len(cleaned_db)\n",
    "for i,db in enumerate(cleaned_db):\n",
    "    with_python[i] = parsed_description.apply(lambda s: np.all([x in s for x in db]) and 'python' in s).sum()\n",
    "    print(' '.join(db) + ' + python: ' + str(with_python[i]) + ' of ' + str(parsed_description.shape[0]))"
   ]
  },
  {
   "cell_type": "code",
   "execution_count": 8,
   "metadata": {},
   "outputs": [
    {
     "name": "stdout",
     "output_type": "stream",
     "text": [
      "oracle + python: 243 of 1392 (17.46%)\n",
      "mysql + python: 207 of 667 (31.03%)\n",
      "microsoft sql server + python: 51 of 868 (5.88%)\n",
      "postgresql + python: 90 of 261 (34.48%)\n",
      "mongodb + python: 111 of 296 (37.5%)\n",
      "redis + python: 38 of 106 (35.85%)\n",
      "snowflake + python: 10 of 15 (66.67%)\n",
      "elasticsearch + python: 73 of 161 (45.34%)\n",
      "ibm db2 + python: 12 of 48 (25.0%)\n",
      "sqlite + python: 7 of 28 (25.0%)\n"
     ]
    }
   ],
   "source": [
    "# Showing percentages\n",
    "for i, db in enumerate(cleaned_db):\n",
    "    print(' '.join(db) + ' + python: ' + str(with_python[i]) + ' of ' + str(raw[i]) + ' (' + str(np.around(with_python[i] / raw[i]*100,2)) + '%)')"
   ]
  },
  {
   "cell_type": "markdown",
   "metadata": {},
   "source": [
    "- Pages 30-31 : quick search for queries\n",
    "---"
   ]
  },
  {
   "cell_type": "code",
   "execution_count": 9,
   "metadata": {},
   "outputs": [
    {
     "name": "stderr",
     "output_type": "stream",
     "text": [
      "C:\\Users\\Admin\\AppData\\Local\\Temp\\ipykernel_7848\\994790654.py:5: DeprecationWarning: The 'text' argument to find()-type methods is deprecated. Use 'string' instead.\n",
      "  all_db = [''.join(s.find('a').findAll(text=True,recursive=False)).strip() for s in db_table.findAll(\"th\", {\"class\": \"pad-l\"})]\n"
     ]
    }
   ],
   "source": [
    "lang = [['java'],['python'],['c'],['kotlin'],['swift'],['rust'],['ruby'],['scala'],['julia'],['lua']]\n",
    "parsed_description = parse_job_description()\n",
    "parsed_db = parse_db()\n",
    "all_terms = lang + parsed_db\n",
    "query_map = pd.DataFrame(parsed_description.apply(lambda s: [1 if np.all([d in s for d in db]) else 0 for db in all_terms]).values.tolist(), columns=[' '.join(d) for d in all_terms])"
   ]
  },
  {
   "cell_type": "code",
   "execution_count": 10,
   "metadata": {},
   "outputs": [
    {
     "name": "stdout",
     "output_type": "stream",
     "text": [
      "|    |   java |   python |   c |   kotlin |   swift |   rust |   ruby |   scala |   julia |   lua |   oracle |   mysql |   microsoft sql server |   postgresql |   mongodb |   redis |   snowflake |   elasticsearch |   ibm db2 |   sqlite |\n",
      "|---:|-------:|---------:|----:|---------:|--------:|-------:|-------:|--------:|--------:|------:|---------:|--------:|-----------------------:|-------------:|----------:|--------:|------------:|----------------:|----------:|---------:|\n",
      "|  0 |      0 |        0 |   1 |        0 |       0 |      0 |      0 |       0 |       0 |     0 |        0 |       0 |                      0 |            1 |         0 |       0 |           0 |               0 |         0 |        0 |\n",
      "|  1 |      0 |        0 |   1 |        0 |       0 |      0 |      0 |       0 |       0 |     0 |        0 |       0 |                      0 |            0 |         0 |       0 |           0 |               0 |         0 |        0 |\n",
      "|  2 |      0 |        0 |   0 |        0 |       0 |      0 |      0 |       0 |       0 |     0 |        0 |       0 |                      0 |            0 |         0 |       0 |           0 |               0 |         0 |        0 |\n",
      "|  3 |      0 |        0 |   0 |        0 |       0 |      0 |      0 |       0 |       0 |     0 |        0 |       0 |                      0 |            0 |         0 |       0 |           0 |               0 |         0 |        0 |\n",
      "|  4 |      0 |        0 |   1 |        0 |       0 |      0 |      0 |       0 |       0 |     0 |        0 |       0 |                      0 |            0 |         0 |       0 |           0 |               0 |         0 |        0 |\n",
      "|  5 |      0 |        0 |   0 |        0 |       1 |      0 |      0 |       0 |       0 |     0 |        0 |       0 |                      0 |            0 |         0 |       0 |           0 |               0 |         0 |        0 |\n",
      "|  6 |      0 |        0 |   1 |        0 |       0 |      0 |      0 |       0 |       0 |     0 |        0 |       0 |                      0 |            0 |         0 |       0 |           0 |               0 |         0 |        0 |\n",
      "|  7 |      0 |        0 |   1 |        0 |       0 |      0 |      0 |       0 |       0 |     0 |        0 |       0 |                      0 |            0 |         0 |       0 |           0 |               0 |         0 |        0 |\n",
      "|  8 |      0 |        0 |   1 |        0 |       0 |      0 |      0 |       0 |       0 |     0 |        0 |       0 |                      0 |            0 |         0 |       0 |           0 |               0 |         0 |        0 |\n",
      "|  9 |      0 |        0 |   0 |        0 |       0 |      0 |      0 |       0 |       0 |     0 |        0 |       0 |                      0 |            0 |         0 |       0 |           0 |               0 |         0 |        0 |\n",
      "| 10 |      1 |        1 |   1 |        0 |       0 |      0 |      0 |       0 |       0 |     0 |        1 |       1 |                      0 |            0 |         1 |       0 |           0 |               0 |         0 |        0 |\n",
      "| 11 |      1 |        0 |   0 |        0 |       0 |      0 |      0 |       0 |       0 |     0 |        0 |       0 |                      0 |            0 |         0 |       0 |           0 |               0 |         0 |        0 |\n",
      "| 12 |      1 |        0 |   0 |        0 |       1 |      0 |      0 |       0 |       0 |     0 |        0 |       0 |                      0 |            0 |         0 |       1 |           0 |               0 |         0 |        0 |\n",
      "| 13 |      0 |        0 |   1 |        0 |       0 |      0 |      0 |       0 |       0 |     0 |        0 |       0 |                      0 |            0 |         0 |       0 |           0 |               0 |         0 |        0 |\n",
      "| 14 |      0 |        0 |   0 |        0 |       0 |      0 |      1 |       0 |       0 |     0 |        0 |       0 |                      0 |            1 |         0 |       0 |           0 |               0 |         0 |        0 |\n",
      "| 15 |      0 |        0 |   1 |        0 |       0 |      0 |      0 |       0 |       0 |     0 |        0 |       0 |                      0 |            0 |         0 |       0 |           0 |               0 |         0 |        0 |\n",
      "| 16 |      1 |        0 |   1 |        0 |       1 |      0 |      0 |       0 |       0 |     0 |        1 |       0 |                      0 |            0 |         0 |       0 |           0 |               0 |         0 |        0 |\n",
      "| 17 |      0 |        0 |   1 |        0 |       0 |      0 |      0 |       0 |       0 |     0 |        0 |       0 |                      1 |            0 |         0 |       0 |           0 |               0 |         0 |        0 |\n",
      "| 18 |      0 |        0 |   1 |        0 |       0 |      0 |      0 |       0 |       0 |     0 |        0 |       1 |                      0 |            0 |         0 |       0 |           0 |               0 |         0 |        0 |\n",
      "| 19 |      1 |        1 |   0 |        0 |       0 |      0 |      0 |       0 |       0 |     0 |        0 |       0 |                      0 |            0 |         0 |       0 |           0 |               0 |         0 |        0 |\n",
      "| 20 |      0 |        0 |   1 |        0 |       0 |      0 |      0 |       0 |       0 |     0 |        0 |       0 |                      0 |            0 |         0 |       0 |           0 |               0 |         0 |        0 |\n",
      "| 21 |      1 |        0 |   0 |        0 |       0 |      0 |      0 |       0 |       0 |     0 |        0 |       0 |                      0 |            0 |         0 |       0 |           0 |               0 |         0 |        0 |\n",
      "| 22 |      0 |        1 |   1 |        0 |       0 |      0 |      0 |       0 |       0 |     0 |        1 |       0 |                      0 |            0 |         0 |       0 |           0 |               0 |         0 |        0 |\n",
      "| 23 |      1 |        0 |   0 |        0 |       0 |      0 |      0 |       0 |       0 |     0 |        1 |       0 |                      0 |            0 |         0 |       0 |           0 |               0 |         1 |        0 |\n",
      "| 24 |      0 |        0 |   1 |        0 |       0 |      0 |      0 |       0 |       0 |     0 |        0 |       0 |                      0 |            0 |         0 |       0 |           0 |               0 |         0 |        0 |\n",
      "| 25 |      0 |        0 |   0 |        0 |       0 |      0 |      0 |       0 |       0 |     0 |        0 |       0 |                      0 |            0 |         0 |       0 |           0 |               0 |         0 |        0 |\n",
      "| 26 |      0 |        0 |   0 |        0 |       0 |      0 |      0 |       0 |       0 |     0 |        0 |       0 |                      0 |            0 |         0 |       0 |           0 |               0 |         0 |        0 |\n",
      "| 27 |      1 |        0 |   0 |        0 |       0 |      0 |      0 |       0 |       0 |     0 |        0 |       0 |                      0 |            0 |         0 |       0 |           0 |               1 |         0 |        0 |\n",
      "| 28 |      1 |        0 |   1 |        0 |       0 |      0 |      0 |       0 |       0 |     0 |        0 |       0 |                      0 |            0 |         0 |       0 |           0 |               0 |         0 |        0 |\n",
      "| 29 |      0 |        0 |   1 |        0 |       0 |      0 |      0 |       0 |       0 |     0 |        0 |       0 |                      0 |            0 |         0 |       0 |           0 |               0 |         0 |        0 |\n",
      "| 30 |      1 |        0 |   1 |        0 |       0 |      0 |      0 |       0 |       0 |     0 |        0 |       0 |                      0 |            0 |         0 |       0 |           0 |               0 |         0 |        0 |\n",
      "| 31 |      0 |        1 |   1 |        0 |       0 |      0 |      0 |       0 |       0 |     0 |        0 |       0 |                      0 |            0 |         0 |       0 |           0 |               0 |         0 |        0 |\n",
      "| 32 |      0 |        0 |   0 |        0 |       0 |      0 |      0 |       0 |       0 |     0 |        1 |       0 |                      0 |            0 |         0 |       0 |           0 |               0 |         0 |        0 |\n",
      "| 33 |      1 |        0 |   0 |        0 |       0 |      0 |      0 |       0 |       0 |     0 |        0 |       0 |                      0 |            0 |         0 |       0 |           0 |               0 |         0 |        0 |\n",
      "| 34 |      1 |        1 |   0 |        0 |       0 |      0 |      0 |       0 |       0 |     0 |        0 |       0 |                      0 |            0 |         0 |       0 |           0 |               0 |         0 |        0 |\n",
      "| 35 |      0 |        0 |   0 |        0 |       0 |      0 |      0 |       0 |       0 |     0 |        0 |       0 |                      0 |            0 |         0 |       0 |           0 |               0 |         0 |        0 |\n",
      "| 36 |      0 |        0 |   0 |        0 |       0 |      0 |      0 |       0 |       0 |     0 |        0 |       0 |                      0 |            0 |         0 |       0 |           0 |               0 |         0 |        0 |\n",
      "| 37 |      1 |        1 |   1 |        0 |       0 |      0 |      1 |       0 |       0 |     0 |        0 |       1 |                      0 |            1 |         0 |       0 |           0 |               0 |         0 |        0 |\n",
      "| 38 |      1 |        1 |   0 |        0 |       0 |      0 |      0 |       0 |       0 |     0 |        0 |       0 |                      0 |            0 |         0 |       0 |           0 |               0 |         0 |        0 |\n",
      "| 39 |      0 |        0 |   0 |        0 |       0 |      0 |      0 |       0 |       0 |     0 |        0 |       0 |                      0 |            0 |         0 |       0 |           0 |               0 |         0 |        0 |\n",
      "| 40 |      0 |        0 |   1 |        0 |       0 |      0 |      0 |       0 |       0 |     0 |        0 |       0 |                      0 |            0 |         0 |       0 |           0 |               0 |         0 |        0 |\n",
      "| 41 |      0 |        0 |   1 |        0 |       0 |      0 |      0 |       0 |       0 |     0 |        0 |       0 |                      1 |            0 |         0 |       0 |           0 |               0 |         0 |        0 |\n",
      "| 42 |      0 |        0 |   1 |        0 |       0 |      0 |      0 |       0 |       0 |     0 |        0 |       0 |                      0 |            0 |         0 |       0 |           0 |               0 |         0 |        0 |\n",
      "| 43 |      0 |        0 |   1 |        0 |       0 |      0 |      0 |       0 |       0 |     0 |        0 |       0 |                      0 |            0 |         0 |       0 |           0 |               0 |         0 |        0 |\n",
      "| 44 |      1 |        0 |   0 |        0 |       0 |      0 |      0 |       0 |       0 |     0 |        0 |       0 |                      0 |            1 |         0 |       0 |           0 |               1 |         0 |        0 |\n",
      "| 45 |      0 |        1 |   0 |        0 |       0 |      0 |      0 |       0 |       0 |     0 |        1 |       0 |                      1 |            0 |         0 |       0 |           0 |               0 |         0 |        0 |\n",
      "| 46 |      1 |        0 |   0 |        0 |       0 |      0 |      0 |       0 |       0 |     0 |        1 |       1 |                      0 |            0 |         0 |       0 |           0 |               0 |         0 |        0 |\n",
      "| 47 |      1 |        1 |   0 |        0 |       0 |      0 |      0 |       0 |       0 |     0 |        0 |       0 |                      0 |            0 |         0 |       0 |           0 |               0 |         0 |        0 |\n",
      "| 48 |      1 |        0 |   1 |        0 |       0 |      0 |      0 |       0 |       0 |     0 |        0 |       0 |                      0 |            0 |         0 |       0 |           0 |               0 |         0 |        0 |\n",
      "| 49 |      0 |        0 |   1 |        0 |       0 |      0 |      0 |       0 |       0 |     0 |        0 |       0 |                      0 |            0 |         0 |       0 |           0 |               0 |         0 |        0 |\n",
      "| 50 |      0 |        0 |   0 |        0 |       0 |      0 |      0 |       0 |       0 |     0 |        0 |       0 |                      0 |            0 |         0 |       0 |           0 |               0 |         0 |        0 |\n",
      "| 51 |      1 |        0 |   0 |        0 |       0 |      0 |      0 |       0 |       0 |     0 |        0 |       0 |                      0 |            0 |         0 |       0 |           0 |               0 |         0 |        0 |\n",
      "| 52 |      0 |        0 |   1 |        0 |       0 |      0 |      0 |       0 |       0 |     0 |        0 |       0 |                      1 |            0 |         0 |       0 |           0 |               0 |         0 |        0 |\n",
      "| 53 |      1 |        0 |   0 |        0 |       0 |      0 |      0 |       0 |       0 |     0 |        0 |       0 |                      0 |            0 |         0 |       0 |           0 |               1 |         0 |        0 |\n",
      "| 54 |      1 |        1 |   1 |        0 |       0 |      0 |      1 |       0 |       0 |     0 |        0 |       0 |                      0 |            0 |         0 |       0 |           0 |               0 |         0 |        0 |\n",
      "| 55 |      0 |        0 |   0 |        0 |       0 |      0 |      0 |       0 |       0 |     0 |        0 |       0 |                      0 |            0 |         0 |       0 |           0 |               0 |         0 |        0 |\n",
      "| 56 |      0 |        0 |   1 |        0 |       0 |      0 |      0 |       0 |       0 |     0 |        0 |       0 |                      0 |            0 |         0 |       0 |           0 |               0 |         0 |        0 |\n",
      "| 57 |      1 |        0 |   0 |        0 |       0 |      0 |      0 |       0 |       0 |     0 |        0 |       0 |                      0 |            0 |         0 |       0 |           0 |               0 |         0 |        0 |\n",
      "| 58 |      0 |        0 |   1 |        0 |       0 |      0 |      0 |       0 |       0 |     0 |        0 |       0 |                      1 |            0 |         0 |       0 |           0 |               0 |         0 |        0 |\n",
      "| 59 |      1 |        0 |   0 |        0 |       0 |      0 |      0 |       0 |       0 |     0 |        0 |       0 |                      0 |            0 |         0 |       0 |           0 |               0 |         0 |        0 |\n",
      "| 60 |      0 |        1 |   0 |        0 |       0 |      0 |      0 |       0 |       0 |     0 |        0 |       0 |                      0 |            0 |         1 |       0 |           0 |               0 |         0 |        0 |\n",
      "| 61 |      0 |        1 |   0 |        0 |       0 |      0 |      0 |       0 |       0 |     0 |        0 |       0 |                      0 |            0 |         1 |       0 |           0 |               0 |         0 |        0 |\n",
      "| 62 |      0 |        0 |   0 |        0 |       0 |      0 |      0 |       0 |       0 |     0 |        0 |       0 |                      1 |            0 |         0 |       0 |           0 |               0 |         0 |        0 |\n",
      "| 63 |      0 |        0 |   1 |        0 |       0 |      0 |      0 |       0 |       0 |     0 |        0 |       0 |                      0 |            0 |         0 |       0 |           0 |               0 |         0 |        0 |\n",
      "| 64 |      0 |        0 |   0 |        0 |       0 |      0 |      0 |       0 |       0 |     0 |        0 |       0 |                      0 |            0 |         0 |       0 |           0 |               0 |         0 |        0 |\n",
      "| 65 |      0 |        0 |   0 |        0 |       0 |      0 |      1 |       1 |       0 |     0 |        0 |       1 |                      0 |            0 |         0 |       1 |           0 |               0 |         0 |        0 |\n",
      "| 66 |      0 |        0 |   0 |        0 |       0 |      0 |      0 |       0 |       0 |     0 |        0 |       0 |                      1 |            0 |         0 |       0 |           0 |               0 |         0 |        0 |\n",
      "| 67 |      1 |        0 |   0 |        0 |       0 |      0 |      0 |       0 |       0 |     0 |        0 |       0 |                      0 |            0 |         0 |       0 |           0 |               0 |         0 |        0 |\n",
      "| 68 |      1 |        0 |   1 |        0 |       0 |      0 |      0 |       0 |       0 |     0 |        0 |       0 |                      0 |            0 |         0 |       0 |           0 |               0 |         0 |        0 |\n",
      "| 69 |      0 |        0 |   1 |        0 |       0 |      0 |      0 |       0 |       0 |     0 |        0 |       0 |                      0 |            0 |         1 |       0 |           0 |               0 |         0 |        0 |\n",
      "| 70 |      1 |        0 |   0 |        0 |       0 |      0 |      0 |       0 |       0 |     0 |        0 |       0 |                      0 |            0 |         0 |       0 |           0 |               1 |         0 |        0 |\n",
      "| 71 |      0 |        0 |   1 |        0 |       0 |      0 |      0 |       0 |       0 |     0 |        0 |       0 |                      0 |            0 |         0 |       0 |           0 |               0 |         0 |        0 |\n",
      "| 72 |      0 |        1 |   0 |        0 |       1 |      0 |      0 |       0 |       0 |     0 |        0 |       0 |                      0 |            0 |         0 |       0 |           0 |               0 |         0 |        0 |\n",
      "| 73 |      0 |        1 |   0 |        0 |       0 |      0 |      0 |       0 |       0 |     0 |        0 |       0 |                      0 |            0 |         1 |       0 |           0 |               0 |         0 |        0 |\n",
      "| 74 |      0 |        1 |   0 |        0 |       0 |      0 |      0 |       0 |       0 |     0 |        0 |       0 |                      0 |            0 |         1 |       0 |           0 |               0 |         0 |        0 |\n",
      "| 75 |      0 |        0 |   1 |        0 |       0 |      0 |      0 |       0 |       0 |     0 |        0 |       0 |                      0 |            0 |         0 |       0 |           0 |               0 |         0 |        0 |\n",
      "| 76 |      0 |        1 |   1 |        0 |       0 |      0 |      0 |       0 |       0 |     0 |        0 |       0 |                      0 |            0 |         0 |       0 |           0 |               0 |         0 |        0 |\n",
      "| 77 |      0 |        1 |   1 |        0 |       0 |      0 |      1 |       0 |       0 |     0 |        0 |       0 |                      0 |            0 |         0 |       0 |           0 |               0 |         0 |        0 |\n",
      "| 78 |      1 |        1 |   1 |        0 |       0 |      0 |      0 |       0 |       0 |     0 |        1 |       0 |                      1 |            0 |         0 |       0 |           0 |               0 |         0 |        0 |\n",
      "| 79 |      0 |        0 |   1 |        0 |       0 |      0 |      0 |       0 |       0 |     0 |        1 |       0 |                      0 |            0 |         0 |       0 |           0 |               0 |         0 |        0 |\n",
      "| 80 |      1 |        0 |   1 |        0 |       0 |      0 |      0 |       0 |       0 |     0 |        0 |       0 |                      1 |            0 |         0 |       0 |           0 |               0 |         0 |        0 |\n",
      "| 81 |      0 |        0 |   0 |        0 |       0 |      0 |      0 |       0 |       0 |     0 |        0 |       0 |                      0 |            0 |         0 |       0 |           0 |               0 |         0 |        0 |\n",
      "| 82 |      0 |        0 |   0 |        0 |       0 |      0 |      0 |       0 |       0 |     0 |        0 |       0 |                      0 |            0 |         0 |       0 |           0 |               0 |         0 |        0 |\n",
      "| 83 |      1 |        0 |   0 |        0 |       0 |      0 |      0 |       0 |       0 |     0 |        0 |       0 |                      0 |            0 |         0 |       0 |           0 |               0 |         0 |        0 |\n",
      "| 84 |      0 |        0 |   1 |        0 |       0 |      0 |      0 |       0 |       0 |     0 |        0 |       0 |                      0 |            0 |         0 |       0 |           0 |               0 |         0 |        0 |\n",
      "| 85 |      1 |        0 |   1 |        0 |       0 |      0 |      0 |       0 |       0 |     0 |        0 |       0 |                      0 |            0 |         0 |       0 |           0 |               0 |         0 |        0 |\n",
      "| 86 |      0 |        0 |   0 |        0 |       0 |      0 |      0 |       0 |       0 |     0 |        0 |       0 |                      0 |            0 |         0 |       0 |           0 |               0 |         0 |        0 |\n",
      "| 87 |      1 |        1 |   1 |        0 |       0 |      0 |      0 |       0 |       0 |     0 |        0 |       0 |                      0 |            0 |         0 |       0 |           0 |               0 |         0 |        0 |\n",
      "| 88 |      0 |        0 |   1 |        0 |       0 |      0 |      0 |       0 |       0 |     0 |        0 |       0 |                      0 |            0 |         0 |       0 |           0 |               0 |         0 |        0 |\n",
      "| 89 |      0 |        0 |   0 |        0 |       0 |      0 |      0 |       0 |       0 |     0 |        1 |       0 |                      0 |            0 |         0 |       0 |           0 |               0 |         0 |        0 |\n",
      "| 90 |      1 |        0 |   0 |        0 |       0 |      0 |      0 |       0 |       0 |     0 |        1 |       0 |                      0 |            0 |         0 |       0 |           0 |               0 |         0 |        0 |\n",
      "| 91 |      1 |        0 |   0 |        0 |       0 |      0 |      0 |       0 |       0 |     0 |        0 |       0 |                      0 |            0 |         0 |       0 |           0 |               0 |         0 |        0 |\n",
      "| 92 |      0 |        0 |   0 |        0 |       0 |      0 |      0 |       0 |       0 |     0 |        0 |       0 |                      0 |            0 |         0 |       0 |           0 |               0 |         0 |        0 |\n",
      "| 93 |      0 |        1 |   1 |        0 |       0 |      0 |      0 |       0 |       0 |     0 |        0 |       0 |                      0 |            0 |         0 |       0 |           0 |               0 |         0 |        0 |\n",
      "| 94 |      0 |        1 |   1 |        0 |       0 |      0 |      0 |       0 |       0 |     0 |        0 |       0 |                      0 |            0 |         0 |       0 |           0 |               0 |         0 |        0 |\n",
      "| 95 |      0 |        1 |   1 |        0 |       0 |      0 |      0 |       1 |       0 |     0 |        0 |       0 |                      1 |            0 |         1 |       1 |           0 |               0 |         0 |        0 |\n",
      "| 96 |      0 |        0 |   1 |        0 |       0 |      0 |      0 |       0 |       0 |     0 |        0 |       0 |                      0 |            0 |         0 |       0 |           0 |               0 |         0 |        0 |\n",
      "| 97 |      0 |        1 |   1 |        0 |       1 |      0 |      0 |       0 |       0 |     0 |        0 |       0 |                      0 |            0 |         0 |       0 |           0 |               0 |         0 |        0 |\n",
      "| 98 |      0 |        0 |   0 |        0 |       0 |      0 |      0 |       0 |       0 |     0 |        0 |       0 |                      0 |            0 |         0 |       0 |           0 |               0 |         0 |        0 |\n",
      "| 99 |      0 |        0 |   0 |        0 |       0 |      0 |      1 |       0 |       0 |     0 |        0 |       0 |                      0 |            0 |         0 |       0 |           0 |               0 |         1 |        0 |\n"
     ]
    }
   ],
   "source": [
    "# Showing the table\n",
    "print(query_map.head(100).to_markdown())"
   ]
  },
  {
   "cell_type": "code",
   "execution_count": 15,
   "metadata": {},
   "outputs": [
    {
     "data": {
      "text/plain": [
       "10      [java, python, c, oracle, mysql, mongodb]\n",
       "11                                         [java]\n",
       "12                           [java, swift, redis]\n",
       "16                       [java, c, swift, oracle]\n",
       "19                                 [java, python]\n",
       "                          ...                    \n",
       "7576                               [java, oracle]\n",
       "7578                [java, python, oracle, mysql]\n",
       "7579                               [java, oracle]\n",
       "7581                        [java, oracle, mysql]\n",
       "7582                              [java, mongodb]\n",
       "Length: 3268, dtype: object"
      ]
     },
     "execution_count": 15,
     "metadata": {},
     "output_type": "execute_result"
    }
   ],
   "source": [
    "query_map[query_map['java'] > 0].apply(lambda s: \n",
    "    np.where(s==1)[0], axis=1\n",
    ").apply(lambda s: \n",
    "    list(query_map.columns[s])\n",
    ")"
   ]
  },
  {
   "cell_type": "markdown",
   "metadata": {},
   "source": [
    "- Page 41 : Indexer\n",
    "---"
   ]
  },
  {
   "cell_type": "code",
   "execution_count": 3,
   "metadata": {},
   "outputs": [
    {
     "name": "stderr",
     "output_type": "stream",
     "text": [
      "[nltk_data] Downloading package stopwords to\n",
      "[nltk_data]     C:\\Users\\Admin\\AppData\\Roaming\\nltk_data...\n",
      "[nltk_data]   Package stopwords is already up-to-date!\n",
      "[nltk_data] Downloading package punkt_tab to\n",
      "[nltk_data]     C:\\Users\\Admin\\AppData\\Roaming\\nltk_data...\n",
      "[nltk_data]   Package punkt_tab is already up-to-date!\n"
     ]
    },
    {
     "data": {
      "text/plain": [
       "array(['analyt', 'chosen', 'consult', 'develop', 'develop', 'devic',\n",
       "       'engin', 'join', 'larger', 'medic', 'part', 'public', 'season',\n",
       "       'sector', 'seek', 'skill', 'softwar', 'softwar', 'strong', 'team',\n",
       "       'team', 'technic', 'technolog'], dtype='<U9')"
      ]
     },
     "execution_count": 3,
     "metadata": {},
     "output_type": "execute_result"
    }
   ],
   "source": [
    "str1 = 'the chosen software developer will be part of a larger engineering team developing software for medical devices.'\n",
    "str2 = 'we are seeking a seasoned software developer with strong analytical and technical skills to join our public sector technology consulting team.'\n",
    "\n",
    "import nltk\n",
    "nltk.download('stopwords')\n",
    "nltk.download('punkt_tab')\n",
    "from nltk.corpus import stopwords\n",
    "from nltk.tokenize import word_tokenize\n",
    "from nltk.stem import PorterStemmer\n",
    "\n",
    "# Tokenize\n",
    "tokened_str1 = word_tokenize(str1)\n",
    "tokened_str2 = word_tokenize(str2)\n",
    "\n",
    "# Remove low frequency\n",
    "tokened_str1 = [w for w in tokened_str1 if len(w) > 2]\n",
    "tokened_str2 = [w for w in tokened_str2 if len(w) > 2]\n",
    "\n",
    "# Remove stop words\n",
    "no_sw_str1 = [word for word in tokened_str1 if not word in stopwords.words()]\n",
    "no_sw_str2 = [word for word in tokened_str2 if not word in stopwords.words()]\n",
    "\n",
    "# Stemming\n",
    "ps = PorterStemmer()\n",
    "stemmed_str1 = np.unique([ps.stem(w) for w in no_sw_str1])\n",
    "stemmed_str2 = np.unique([ps.stem(w) for w in no_sw_str2])\n",
    "\n",
    "full_list = np.sort(np.concatenate([stemmed_str1, stemmed_str2]))\n",
    "full_list"
   ]
  },
  {
   "cell_type": "code",
   "execution_count": null,
   "metadata": {},
   "outputs": [
    {
     "name": "stderr",
     "output_type": "stream",
     "text": [
      "[nltk_data] Downloading package stopwords to\n",
      "[nltk_data]     C:\\Users\\Admin\\AppData\\Roaming\\nltk_data...\n",
      "[nltk_data]   Package stopwords is already up-to-date!\n",
      "[nltk_data] Downloading package punkt_tab to\n",
      "[nltk_data]     C:\\Users\\Admin\\AppData\\Roaming\\nltk_data...\n",
      "[nltk_data]   Package punkt_tab is already up-to-date!\n"
     ]
    },
    {
     "data": {
      "text/plain": [
       "array(['achiev', 'analyz', 'applic', 'busi', 'defin', 'develop',\n",
       "       'maintain', 'requir', 'role', 'softwar', 'support', 'test', 'the'],\n",
       "      dtype='<U8')"
      ]
     },
     "execution_count": 9,
     "metadata": {},
     "output_type": "execute_result"
    }
   ],
   "source": [
    "str1 = \"The software developers' role is to define, develop, test, analyze, and maintain new software applications in support of the achievement of business requirements.\"\n",
    "import nltk\n",
    "nltk.download('stopwords')\n",
    "nltk.download('punkt_tab')\n",
    "from nltk.corpus import stopwords\n",
    "from nltk.tokenize import word_tokenize\n",
    "from nltk.stem import PorterStemmer\n",
    "\n",
    "# Tokenize\n",
    "tokened_str1 = word_tokenize(str1)\n",
    "\n",
    "# Remove low frequency\n",
    "\n",
    "# Remove stop words\n",
    "no_sw_str1 = [word for word in tokened_str1 if not word in stopwords.words()]\n",
    "\n",
    "# Stemming\n",
    "ps = PorterStemmer()\n",
    "stemmed_str1 = np.unique([ps.stem(w) for w in no_sw_str1])\n",
    "\n",
    "\n",
    "full_list = np.concatenate([stemmed_str1])\n",
    "full_list"
   ]
  }
 ],
 "metadata": {
  "kernelspec": {
   "display_name": "SE-IR",
   "language": "python",
   "name": "python3"
  },
  "language_info": {
   "codemirror_mode": {
    "name": "ipython",
    "version": 3
   },
   "file_extension": ".py",
   "mimetype": "text/x-python",
   "name": "python",
   "nbconvert_exporter": "python",
   "pygments_lexer": "ipython3",
   "version": "3.12.7"
  }
 },
 "nbformat": 4,
 "nbformat_minor": 2
}
