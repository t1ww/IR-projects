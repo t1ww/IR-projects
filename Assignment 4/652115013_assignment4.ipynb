{
 "cells": [
  {
   "cell_type": "markdown",
   "metadata": {},
   "source": [
    "# Assignment 4 \n",
    "`- 652115013 Narongchai Rongthong`\n",
    "\n",
    "- Use the method discussed in this chapter to find and rank 5 misspelt candidates for a typo word clowd.\n",
    "    - Explain and choose 5 candidates from https://www.dcode.fr/levenshtein-distanceLinks to an external site. that are each one edit distance away from the word clowd. (1 pt)\n",
    "- Create p(x|w) table. (1 pt)\n",
    "- Create p(x|w)p(w) table using COCA, WIKI, and IULA (one each) (0.5 pt each = 1.5 pt in total)\n",
    "- Bring context into account, but this time uses COCA, WIKI, and IULA (one each) (0.5 pt each = 1.5 pt in total)\n",
    "    - Make one sentence by yourself to show that corpus become less dominant."
   ]
  },
  {
   "cell_type": "markdown",
   "metadata": {},
   "source": [
    "---\n",
    "Q1 `- Use the method discussed in this chapter to find and rank 5 misspelt candidates for a typo word clowd.`"
   ]
  },
  {
   "cell_type": "markdown",
   "metadata": {},
   "source": [
    "Candidate generation (COCA)\n",
    "- Firstly we're utilizing the Corpus of Contemporary English (COCA — https://www.english-corpora.org/coca/) as the reference corpus.\n",
    "    - As of of 2019, T ~ 1,001,610,938 terms\n",
    "    - Candidates was taken from https://www.dcode.fr/levenshtein-distance"
   ]
  },
  {
   "cell_type": "markdown",
   "metadata": {},
   "source": [
    "So we got the frequecies of:\n",
    "- CLOD = 282\n",
    "- CLOW = 63\n",
    "- CLOUD = 28077\n",
    "- CLOWN = 7190\n",
    "- CROWD = 56835"
   ]
  },
  {
   "cell_type": "markdown",
   "metadata": {},
   "source": [
    "`Now we can start writing code to rank their probability`"
   ]
  },
  {
   "cell_type": "code",
   "execution_count": 26,
   "metadata": {},
   "outputs": [
    {
     "data": {
      "text/html": [
       "<div>\n",
       "<style scoped>\n",
       "    .dataframe tbody tr th:only-of-type {\n",
       "        vertical-align: middle;\n",
       "    }\n",
       "\n",
       "    .dataframe tbody tr th {\n",
       "        vertical-align: top;\n",
       "    }\n",
       "\n",
       "    .dataframe thead th {\n",
       "        text-align: right;\n",
       "    }\n",
       "</style>\n",
       "<table border=\"1\" class=\"dataframe\">\n",
       "  <thead>\n",
       "    <tr style=\"text-align: right;\">\n",
       "      <th></th>\n",
       "      <th>word</th>\n",
       "      <th>frequency</th>\n",
       "      <th>P(w)</th>\n",
       "      <th>rank</th>\n",
       "    </tr>\n",
       "  </thead>\n",
       "  <tbody>\n",
       "    <tr>\n",
       "      <th>0</th>\n",
       "      <td>clod</td>\n",
       "      <td>282</td>\n",
       "      <td>2.815464e-07</td>\n",
       "      <td>4</td>\n",
       "    </tr>\n",
       "    <tr>\n",
       "      <th>1</th>\n",
       "      <td>clow</td>\n",
       "      <td>63</td>\n",
       "      <td>6.289867e-08</td>\n",
       "      <td>5</td>\n",
       "    </tr>\n",
       "    <tr>\n",
       "      <th>2</th>\n",
       "      <td>cloud</td>\n",
       "      <td>28077</td>\n",
       "      <td>2.803184e-05</td>\n",
       "      <td>2</td>\n",
       "    </tr>\n",
       "    <tr>\n",
       "      <th>3</th>\n",
       "      <td>clown</td>\n",
       "      <td>7190</td>\n",
       "      <td>7.178436e-06</td>\n",
       "      <td>3</td>\n",
       "    </tr>\n",
       "    <tr>\n",
       "      <th>4</th>\n",
       "      <td>crowd</td>\n",
       "      <td>56835</td>\n",
       "      <td>5.674359e-05</td>\n",
       "      <td>1</td>\n",
       "    </tr>\n",
       "  </tbody>\n",
       "</table>\n",
       "</div>"
      ],
      "text/plain": [
       "    word  frequency          P(w)  rank\n",
       "0   clod        282  2.815464e-07     4\n",
       "1   clow         63  6.289867e-08     5\n",
       "2  cloud      28077  2.803184e-05     2\n",
       "3  clown       7190  7.178436e-06     3\n",
       "4  crowd      56835  5.674359e-05     1"
      ]
     },
     "execution_count": 26,
     "metadata": {},
     "output_type": "execute_result"
    }
   ],
   "source": [
    "import pandas as pd\n",
    "\n",
    "# Create a DataFrame with words and their frequencies\n",
    "words = ['clod', 'clow', 'cloud', 'clown', 'crowd']\n",
    "frequencies = [282, 63, 28077, 7190, 56835]\n",
    "COCA = pd.DataFrame(list(zip(words, frequencies)), columns=['word', 'frequency'])\n",
    "\n",
    "# COCA population (As of of 2019, T ~ 1,001,610,938 terms)\n",
    "COCA_pop = 1001610938 \n",
    "\n",
    "# Calculate the probability\n",
    "COCA['P(w)'] = COCA['frequency'] / COCA_pop\n",
    "\n",
    "# Rank the words by their frequency (highest rank for most frequent)\n",
    "COCA['rank'] = COCA['frequency'].rank(ascending=False, method='min').astype(int)\n",
    "\n",
    "COCA"
   ]
  },
  {
   "cell_type": "markdown",
   "metadata": {},
   "source": [
    "*Ranking by frequency reflects the likelihood of each word appearing in the corpus, and thus indicates its likelihood of being the correct word.*"
   ]
  },
  {
   "cell_type": "markdown",
   "metadata": {},
   "source": [
    "--- \n",
    "Q1.1 `- Explain and choose 5 candidates from https://www.dcode.fr/levenshtein-distanceLinks to an external site. that are each one edit distance away from the word clowd. (1 pt)`"
   ]
  },
  {
   "cell_type": "markdown",
   "metadata": {},
   "source": [
    "Query result from the site\n",
    "\n",
    "<div>\n",
    "    <img src=\"src/image.png\" width=\"500\"/>\n",
    "</div>"
   ]
  },
  {
   "cell_type": "markdown",
   "metadata": {},
   "source": [
    "<b> This shows these 5 candidates that are one edits away from the word `CLOWD` </b>\n",
    "\n",
    "    - CLOD\t1\n",
    "    - CLOW\t1\n",
    "    - CLOUD\t1\n",
    "    - CLOWN\t1\n",
    "    - CROWD\t1\n",
    "\n",
    "These words are considered one edit away from CLOWD because they can be transformed into CLOWD through a single edit operation. \n",
    "\n",
    "- The typical edit operations are:\n",
    "    - Insertion: Adding a single character.\n",
    "    - Deletion: Removing a single character.\n",
    "    - Substitution: Replacing a single character with another.\n",
    "    - Transposition (optional in some spell-correction algorithms): Swapping two adjacent characters.\n",
    "\n",
    "<b>So the operations for each words would be</b>\n",
    "\n",
    "`CLOWD -> CLOD:`\n",
    "\n",
    "- Deletion: Remove the letter W.\n",
    "\n",
    "`CLOWD -> CLOW:`\n",
    "\n",
    "- Deletion: Remove the letter D.\n",
    "\n",
    "`CLOWD -> CLOUD:`\n",
    "\n",
    "- Substitution: Replace the letter W in CLOWD with U.\n",
    "\n",
    "`CLOWD -> CLOWN:`\n",
    "\n",
    "- Substitution: Replace the letter D in CLOWD with N.\n",
    "\n",
    "`CLOWD -> CROWD:`\n",
    "\n",
    "- Substitution: Replace the letter L in CLOWD with R."
   ]
  },
  {
   "cell_type": "markdown",
   "metadata": {},
   "source": [
    "---\n",
    "Q2 `- Create p(x|w) table. (1 pt)`"
   ]
  },
  {
   "cell_type": "markdown",
   "metadata": {},
   "source": [
    "To do this we consult the collected list of errors, e.g., Peter Norvig’s collections http://norvig.com/ngrams `/count_1edit.txt`<br>\n",
    "- so we can find more probable correct spelling based on the common letter misspelled\n",
    "\n",
    "*Note we cannot model unseen errors*"
   ]
  },
  {
   "cell_type": "code",
   "execution_count": 2,
   "metadata": {},
   "outputs": [
    {
     "name": "stdout",
     "output_type": "stream",
     "text": [
      "      edit\n",
      "term      \n",
      "e|i    917\n",
      "a|e    856\n",
      "i|e    771\n",
      "e|a    749\n",
      "a|i    559\n"
     ]
    }
   ],
   "source": [
    "norvig = pd.read_csv('http://norvig.com/ngrams/count_1edit.txt', sep='\\t',encoding = \"ISO-8859-1\", header=None)\n",
    "norvig.columns = ['term', 'edit']\n",
    "norvig = norvig.set_index('term')\n",
    "print(norvig.head())"
   ]
  },
  {
   "cell_type": "markdown",
   "metadata": {},
   "source": [
    "Next we get (count_big.txt) from Peter Norvig’s collection at http://norvig.com/ngrams `/count_big.txt`<br>\n",
    "This allows us to determine the prior probability of a word's occurrence in general usage.\n",
    "\n",
    "- This file contains unigram term frequencies (single-word occurrences) from a large corpus of text.\n",
    "- The data provides the frequency (freq) of each term (term) in the corpus.\n",
    "\n",
    "*Rare words may have less reliable estimates.*"
   ]
  },
  {
   "cell_type": "code",
   "execution_count": 3,
   "metadata": {},
   "outputs": [
    {
     "name": "stdout",
     "output_type": "stream",
     "text": [
      "    term   freq\n",
      "0      a  21160\n",
      "1    aah      1\n",
      "2  aaron      5\n",
      "3     ab      2\n",
      "4  aback      3\n"
     ]
    }
   ],
   "source": [
    "norvig_orig = pd.read_csv('http://norvig.com/ngrams/count_big.txt',sep='\\t', encoding = \"ISO-8859-1\", header=None)\n",
    "norvig_orig = norvig_orig.dropna()\n",
    "norvig_orig.columns=['term','freq']\n",
    "print(norvig_orig.head())"
   ]
  },
  {
   "cell_type": "markdown",
   "metadata": {},
   "source": [
    "Now with that data, we can calculate the p(x|w)"
   ]
  },
  {
   "cell_type": "code",
   "execution_count": 6,
   "metadata": {},
   "outputs": [],
   "source": [
    "from multiprocessing.pool import ThreadPool as Pool\n",
    "from string import ascii_lowercase\n",
    "import pandas as pd\n",
    "import itertools\n",
    "\n",
    "# Function to calculate the count of characters\n",
    "def get_count(c):\n",
    "    global shared_df\n",
    "    return shared_df.apply(lambda x: x.term.count(c) * x.freq, axis=1).sum()\n",
    "\n",
    "# Function to initialize the shared dataframe in the pool\n",
    "def init_pool(df):\n",
    "    global shared_df\n",
    "    shared_df = df\n",
    "\n",
    "# Character set generation\n",
    "character_set = (\n",
    "    list(map(''.join, itertools.product(ascii_lowercase, repeat=1))) +\n",
    "    list(map(''.join, itertools.product(ascii_lowercase, repeat=2)))\n",
    ")\n",
    "\n",
    "# Number of cores for parallel processing\n",
    "core_count = 4\n",
    "\n",
    "# Creating a frequency DataFrame for the characters\n",
    "with Pool(core_count, initializer=init_pool, initargs=(norvig_orig,)) as pool:\n",
    "    freq_list = pool.map(get_count, character_set)\n",
    "\n",
    "freq_df = pd.DataFrame({'char': character_set, 'freq': freq_list}).set_index('char')\n"
   ]
  },
  {
   "cell_type": "code",
   "execution_count": 28,
   "metadata": {},
   "outputs": [
    {
     "data": {
      "text/html": [
       "<div>\n",
       "<style scoped>\n",
       "    .dataframe tbody tr th:only-of-type {\n",
       "        vertical-align: middle;\n",
       "    }\n",
       "\n",
       "    .dataframe tbody tr th {\n",
       "        vertical-align: top;\n",
       "    }\n",
       "\n",
       "    .dataframe thead th {\n",
       "        text-align: right;\n",
       "    }\n",
       "</style>\n",
       "<table border=\"1\" class=\"dataframe\">\n",
       "  <thead>\n",
       "    <tr style=\"text-align: right;\">\n",
       "      <th></th>\n",
       "      <th>word</th>\n",
       "      <th>frequency</th>\n",
       "      <th>P(w)</th>\n",
       "      <th>rank</th>\n",
       "      <th>P(x|w)</th>\n",
       "    </tr>\n",
       "  </thead>\n",
       "  <tbody>\n",
       "    <tr>\n",
       "      <th>0</th>\n",
       "      <td>clod</td>\n",
       "      <td>282</td>\n",
       "      <td>2.815464e-07</td>\n",
       "      <td>4</td>\n",
       "      <td>0.000010</td>\n",
       "    </tr>\n",
       "    <tr>\n",
       "      <th>1</th>\n",
       "      <td>clow</td>\n",
       "      <td>63</td>\n",
       "      <td>6.289867e-08</td>\n",
       "      <td>5</td>\n",
       "      <td>0.000000</td>\n",
       "    </tr>\n",
       "    <tr>\n",
       "      <th>2</th>\n",
       "      <td>cloud</td>\n",
       "      <td>28077</td>\n",
       "      <td>2.803184e-05</td>\n",
       "      <td>2</td>\n",
       "      <td>0.001233</td>\n",
       "    </tr>\n",
       "    <tr>\n",
       "      <th>3</th>\n",
       "      <td>clown</td>\n",
       "      <td>7190</td>\n",
       "      <td>7.178436e-06</td>\n",
       "      <td>3</td>\n",
       "      <td>0.000043</td>\n",
       "    </tr>\n",
       "    <tr>\n",
       "      <th>4</th>\n",
       "      <td>crowd</td>\n",
       "      <td>56835</td>\n",
       "      <td>5.674359e-05</td>\n",
       "      <td>1</td>\n",
       "      <td>0.000068</td>\n",
       "    </tr>\n",
       "  </tbody>\n",
       "</table>\n",
       "</div>"
      ],
      "text/plain": [
       "    word  frequency          P(w)  rank    P(x|w)\n",
       "0   clod        282  2.815464e-07     4  0.000010\n",
       "1   clow         63  6.289867e-08     5  0.000000\n",
       "2  cloud      28077  2.803184e-05     2  0.001233\n",
       "3  clown       7190  7.178436e-06     3  0.000043\n",
       "4  crowd      56835  5.674359e-05     1  0.000068"
      ]
     },
     "execution_count": 28,
     "metadata": {},
     "output_type": "execute_result"
    }
   ],
   "source": [
    "# Adding P(x|w) to COCA DataFrame (use zero instead if doesnt have)\n",
    "COCA['P(x|w)'] = [\n",
    "    (norvig.loc['w| '].values[0] if 'w| ' in norvig.index else 0) / freq_df.loc['w'].values[0],  # For \"clod\"\n",
    "    (norvig.loc['d| '].values[0] if 'd| ' in norvig.index else 0) / freq_df.loc['d'].values[0],  # For \"clow\"\n",
    "    (norvig.loc['o|u'].values[0] if 'o|u' in norvig.index else 0) / freq_df.loc['u'].values[0],  # For \"cloud\"\n",
    "    (norvig.loc['d|n'].values[0] if 'd|n' in norvig.index else 0) / freq_df.loc['n'].values[0],  # For \"clown\"\n",
    "    (norvig.loc['l|r'].values[0] if 'l|r' in norvig.index else 0) / freq_df.loc['r'].values[0]   # For \"crowd\"\n",
    "]\n",
    "COCA"
   ]
  },
  {
   "cell_type": "markdown",
   "metadata": {},
   "source": [
    "---\n",
    "Q3 `- Create p(x|w)p(w) table using COCA, WIKI, and IULA (one each) (0.5 pt each = 1.5 pt in total)`"
   ]
  },
  {
   "cell_type": "markdown",
   "metadata": {},
   "source": [
    "We can easily add one for COCA just like so."
   ]
  },
  {
   "cell_type": "code",
   "execution_count": 21,
   "metadata": {},
   "outputs": [
    {
     "data": {
      "text/html": [
       "<div>\n",
       "<style scoped>\n",
       "    .dataframe tbody tr th:only-of-type {\n",
       "        vertical-align: middle;\n",
       "    }\n",
       "\n",
       "    .dataframe tbody tr th {\n",
       "        vertical-align: top;\n",
       "    }\n",
       "\n",
       "    .dataframe thead th {\n",
       "        text-align: right;\n",
       "    }\n",
       "</style>\n",
       "<table border=\"1\" class=\"dataframe\">\n",
       "  <thead>\n",
       "    <tr style=\"text-align: right;\">\n",
       "      <th></th>\n",
       "      <th>word</th>\n",
       "      <th>frequency</th>\n",
       "      <th>P(w)</th>\n",
       "      <th>rank</th>\n",
       "      <th>P(x|w)</th>\n",
       "      <th>109 P(x|w)P(w)</th>\n",
       "    </tr>\n",
       "  </thead>\n",
       "  <tbody>\n",
       "    <tr>\n",
       "      <th>0</th>\n",
       "      <td>CLOD</td>\n",
       "      <td>282</td>\n",
       "      <td>2.815464e-07</td>\n",
       "      <td>4</td>\n",
       "      <td>0.000010</td>\n",
       "      <td>0.002792</td>\n",
       "    </tr>\n",
       "    <tr>\n",
       "      <th>1</th>\n",
       "      <td>CLOW</td>\n",
       "      <td>63</td>\n",
       "      <td>6.289867e-08</td>\n",
       "      <td>5</td>\n",
       "      <td>0.000000</td>\n",
       "      <td>0.000000</td>\n",
       "    </tr>\n",
       "    <tr>\n",
       "      <th>2</th>\n",
       "      <td>CLOUD</td>\n",
       "      <td>28077</td>\n",
       "      <td>2.803184e-05</td>\n",
       "      <td>2</td>\n",
       "      <td>0.001233</td>\n",
       "      <td>34.555819</td>\n",
       "    </tr>\n",
       "    <tr>\n",
       "      <th>3</th>\n",
       "      <td>CLOWN</td>\n",
       "      <td>7190</td>\n",
       "      <td>7.178436e-06</td>\n",
       "      <td>3</td>\n",
       "      <td>0.000043</td>\n",
       "      <td>0.311269</td>\n",
       "    </tr>\n",
       "    <tr>\n",
       "      <th>4</th>\n",
       "      <td>CROWD</td>\n",
       "      <td>56835</td>\n",
       "      <td>5.674359e-05</td>\n",
       "      <td>1</td>\n",
       "      <td>0.000068</td>\n",
       "      <td>3.849571</td>\n",
       "    </tr>\n",
       "  </tbody>\n",
       "</table>\n",
       "</div>"
      ],
      "text/plain": [
       "    word  frequency          P(w)  rank    P(x|w)  109 P(x|w)P(w)\n",
       "0   CLOD        282  2.815464e-07     4  0.000010        0.002792\n",
       "1   CLOW         63  6.289867e-08     5  0.000000        0.000000\n",
       "2  CLOUD      28077  2.803184e-05     2  0.001233       34.555819\n",
       "3  CLOWN       7190  7.178436e-06     3  0.000043        0.311269\n",
       "4  CROWD      56835  5.674359e-05     1  0.000068        3.849571"
      ]
     },
     "execution_count": 21,
     "metadata": {},
     "output_type": "execute_result"
    }
   ],
   "source": [
    "# Adding P(x|w)P(w)\n",
    "COCA['109 P(x|w)P(w)'] = 1e9 * COCA['P(w)'] * COCA['P(x|w)']\n",
    "COCA"
   ]
  },
  {
   "cell_type": "markdown",
   "metadata": {},
   "source": [
    "Next we have to find WIKI and IULA, firstly we have to get the data"
   ]
  },
  {
   "cell_type": "markdown",
   "metadata": {},
   "source": [
    "We can get WIKI data from the website https://www.english-corpora.org/wiki/"
   ]
  },
  {
   "cell_type": "code",
   "execution_count": 32,
   "metadata": {},
   "outputs": [
    {
     "data": {
      "text/html": [
       "<div>\n",
       "<style scoped>\n",
       "    .dataframe tbody tr th:only-of-type {\n",
       "        vertical-align: middle;\n",
       "    }\n",
       "\n",
       "    .dataframe tbody tr th {\n",
       "        vertical-align: top;\n",
       "    }\n",
       "\n",
       "    .dataframe thead th {\n",
       "        text-align: right;\n",
       "    }\n",
       "</style>\n",
       "<table border=\"1\" class=\"dataframe\">\n",
       "  <thead>\n",
       "    <tr style=\"text-align: right;\">\n",
       "      <th></th>\n",
       "      <th>word</th>\n",
       "      <th>frequency</th>\n",
       "      <th>P(w)</th>\n",
       "      <th>rank</th>\n",
       "    </tr>\n",
       "  </thead>\n",
       "  <tbody>\n",
       "    <tr>\n",
       "      <th>0</th>\n",
       "      <td>clod</td>\n",
       "      <td>226</td>\n",
       "      <td>1.189474e-07</td>\n",
       "      <td>4</td>\n",
       "    </tr>\n",
       "    <tr>\n",
       "      <th>1</th>\n",
       "      <td>clow</td>\n",
       "      <td>511</td>\n",
       "      <td>2.689474e-07</td>\n",
       "      <td>3</td>\n",
       "    </tr>\n",
       "    <tr>\n",
       "      <th>2</th>\n",
       "      <td>cloud</td>\n",
       "      <td>36352</td>\n",
       "      <td>1.913263e-05</td>\n",
       "      <td>1</td>\n",
       "    </tr>\n",
       "    <tr>\n",
       "      <th>3</th>\n",
       "      <td>clown</td>\n",
       "      <td>11029</td>\n",
       "      <td>5.804737e-06</td>\n",
       "      <td>2</td>\n",
       "    </tr>\n",
       "    <tr>\n",
       "      <th>4</th>\n",
       "      <td>crowd</td>\n",
       "      <td>0</td>\n",
       "      <td>0.000000e+00</td>\n",
       "      <td>5</td>\n",
       "    </tr>\n",
       "  </tbody>\n",
       "</table>\n",
       "</div>"
      ],
      "text/plain": [
       "    word  frequency          P(w)  rank\n",
       "0   clod        226  1.189474e-07     4\n",
       "1   clow        511  2.689474e-07     3\n",
       "2  cloud      36352  1.913263e-05     1\n",
       "3  clown      11029  5.804737e-06     2\n",
       "4  crowd          0  0.000000e+00     5"
      ]
     },
     "execution_count": 32,
     "metadata": {},
     "output_type": "execute_result"
    }
   ],
   "source": [
    "# !!! CROWD IS 0 RN DUE TO QUERY LIMIT PLEASE DONT FORGET PLSLSPSLPSLSPls\n",
    "# Create a DataFrame with words and their frequencies\n",
    "words = ['clod', 'clow', 'cloud', 'clown', 'crowd']\n",
    "frequencies = [226, 511, 36352, 11029, 0]  # NOW Using the WIKI frequencies\n",
    "WIKI = pd.DataFrame(list(zip(words, frequencies)), columns=['word', 'frequency'])\n",
    "\n",
    "# WIKI population (T ~ 1,900,000,000)\n",
    "WIKI_pop = 1.9e9\n",
    "\n",
    "# Calculate the probability\n",
    "WIKI['P(w)'] = WIKI['frequency'] / WIKI_pop\n",
    "\n",
    "# Rank the words by their frequency (highest rank for most frequent)\n",
    "WIKI['rank'] = WIKI['frequency'].rank(ascending=False, method='min').astype(int)\n",
    "\n",
    "WIKI\n"
   ]
  },
  {
   "cell_type": "markdown",
   "metadata": {},
   "source": [
    "I'll be using IULA that we've downloaded back in handout."
   ]
  },
  {
   "cell_type": "markdown",
   "metadata": {},
   "source": [
    "---\n",
    "Q4 : \n",
    "- `Bring context into account, but this time uses COCA, WIKI, and IULA (one each) (0.5 pt each = 1.5 pt in total)`\n",
    "    - `Make one sentence by yourself to show that corpus become less dominant.`    \n"
   ]
  }
 ],
 "metadata": {
  "kernelspec": {
   "display_name": "SE-IR",
   "language": "python",
   "name": "python3"
  },
  "language_info": {
   "codemirror_mode": {
    "name": "ipython",
    "version": 3
   },
   "file_extension": ".py",
   "mimetype": "text/x-python",
   "name": "python",
   "nbconvert_exporter": "python",
   "pygments_lexer": "ipython3",
   "version": "3.12.7"
  }
 },
 "nbformat": 4,
 "nbformat_minor": 2
}
