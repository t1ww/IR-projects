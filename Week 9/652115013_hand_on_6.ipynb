{
 "cells": [
  {
   "cell_type": "markdown",
   "metadata": {},
   "source": [
    "`#6` Hand on (1 of 1)"
   ]
  },
  {
   "cell_type": "markdown",
   "metadata": {},
   "source": [
    "---\n",
    "`Page 27` : Quick workout"
   ]
  },
  {
   "cell_type": "markdown",
   "metadata": {},
   "source": [
    "- There are 5 relevant documents in total.\n",
    "    \n",
    "    *T represents a relevant document, and F represents an irrelevant document.*\n",
    "    - System A results: `FTTTTTFFFF`\n",
    "    - System B results: `TTTFFFFFTT`\n",
    "- Comparing the mAP values between the two systems"
   ]
  },
  {
   "cell_type": "code",
   "execution_count": 29,
   "metadata": {},
   "outputs": [
    {
     "name": "stdout",
     "output_type": "stream",
     "text": [
      "System A precisions: [0.5, 0.667, 0.75, 0.8, 0.833]\n",
      "mAP System A: 0.71\n",
      "System B precisions: [1.0, 1.0, 1.0, 0.444, 0.5]\n",
      "mAP System B: 0.789\n",
      "mAP total: 0.750\n"
     ]
    }
   ],
   "source": [
    "import numpy as np\n",
    "\n",
    "def mean_average_precision(system_results, relevant_count):\n",
    "    relevant_seen = 0\n",
    "    precision_at_k = []\n",
    "    \n",
    "    for k, result in enumerate(system_results, start=1):\n",
    "        if result == 'T':\n",
    "            relevant_seen += 1\n",
    "            precision = round(relevant_seen / k, 3)\n",
    "            precision_at_k.append(precision)\n",
    "    \n",
    "    return round(sum(precision_at_k) / relevant_count, 3) if relevant_count > 0 else 0, precision_at_k\n",
    "\n",
    "# System A\n",
    "system_a = list('FTTTTTFFFF')\n",
    "map_a, prec_a = mean_average_precision(system_a, 5)\n",
    "\n",
    "# System B\n",
    "system_b = list('TTTFFFFFTT')\n",
    "map_b, prec_b = mean_average_precision(system_b, 5)\n",
    "\n",
    "print(f\"System A precisions: {prec_a}\")\n",
    "print(f\"mAP System A: {map_a}\")\n",
    "print(f\"System B precisions: {prec_b}\")\n",
    "print(f\"mAP System B: {map_b}\")\n",
    "print(f\"mAP total: {(map_a+map_b)/2:.3f}\")"
   ]
  },
  {
   "cell_type": "markdown",
   "metadata": {},
   "source": [
    "---\n",
    "`Page 38` : In class activity"
   ]
  },
  {
   "cell_type": "markdown",
   "metadata": {},
   "source": [
    "- Given an automated system used to rank reported bugs, where the most\n",
    "critical bugs should be addressed first. Suppose there are 5 bugs, all deemed\n",
    "critical.\n",
    "    - Bug ranking system A outputs the following order: Minor, Critical, Critical, Critical,\n",
    "    Critical, Minor, Critical, Minor, Minor, Minor.\n",
    "    - Bug ranking system B outputs the following order: Critical, Critical, Critical, Minor,\n",
    "    Minor, Minor, Minor, Critical, Critical, Minor.\n",
    "    - Relevance scores are defined as: Critical = 3, Major = 2, Minor = 1.\n",
    "    - Using Python, calculate the NDCG@5 for both ranking systems A and B."
   ]
  },
  {
   "cell_type": "code",
   "execution_count": 56,
   "metadata": {},
   "outputs": [
    {
     "name": "stdout",
     "output_type": "stream",
     "text": [
      "System A, NDCG@5 : 0.7739, DCG : 6.845377356638177, IDCG : 8.845377356638178\n",
      "System B, NDCG@5 : 0.8152, DCG : 7.210318626022307, IDCG : 8.845377356638178\n"
     ]
    }
   ],
   "source": [
    "import numpy as np\n",
    "\n",
    "# DCG Calculation\n",
    "def dcg(relevance_scores):\n",
    "    return sum(rs / np.log2(i + 1) if i > 1 else rs for i, rs in enumerate(relevance_scores, start=1))\n",
    "\n",
    "# NDCG@k Calculation\n",
    "def ndcg_at_k(system_ranking, relevance_dict, k=5):\n",
    "    # Actual relevances for the system ranking\n",
    "    actual_relevances = [relevance_dict[bug] for bug in system_ranking[:k]]\n",
    "    \n",
    "    # Ideal ranking is the items sorted by relevance, from highest to lowest\n",
    "    ideal_relevances = sorted(system_ranking, key=lambda x: relevance_dict[x], reverse=True)\n",
    "    ideal_relevances = [relevance_dict[bug] for bug in ideal_relevances[:k]]\n",
    "    \n",
    "    dcg_k = dcg(actual_relevances)\n",
    "    idcg_k = dcg(ideal_relevances)\n",
    "    \n",
    "    return dcg_k / idcg_k if idcg_k > 0 else 0, dcg_k, idcg_k\n",
    "\n",
    "# Define relevance scores\n",
    "relevance = {'Critical': 3, 'Major': 2, 'Minor': 1}\n",
    "\n",
    "# System A Ranking\n",
    "system_a_ranking = ['Minor', 'Critical', 'Critical', 'Critical', 'Critical', 'Minor' , 'Critical', 'Minor', 'Minor', 'Minor']\n",
    "ndcg_a, dcg_a, idcg_a = ndcg_at_k(system_a_ranking, relevance, 5)\n",
    "\n",
    "# System B Ranking\n",
    "system_b_ranking = ['Critical', 'Critical', 'Critical', 'Minor', 'Minor', 'Minor', 'Minor', 'Critical', 'Critical', 'Minor']\n",
    "ndcg_b, dcg_b, idcg_b = ndcg_at_k(system_b_ranking, relevance, 5)\n",
    "\n",
    "print(f\"System A, NDCG@5 : {ndcg_a:.4f}, DCG : {dcg_a}, IDCG : {idcg_a}\")\n",
    "print(f\"System B, NDCG@5 : {ndcg_b:.4f}, DCG : {dcg_b}, IDCG : {idcg_b}\")\n"
   ]
  }
 ],
 "metadata": {
  "kernelspec": {
   "display_name": "SE-IR",
   "language": "python",
   "name": "python3"
  },
  "language_info": {
   "codemirror_mode": {
    "name": "ipython",
    "version": 3
   },
   "file_extension": ".py",
   "mimetype": "text/x-python",
   "name": "python",
   "nbconvert_exporter": "python",
   "pygments_lexer": "ipython3",
   "version": "3.12.7"
  }
 },
 "nbformat": 4,
 "nbformat_minor": 2
}
